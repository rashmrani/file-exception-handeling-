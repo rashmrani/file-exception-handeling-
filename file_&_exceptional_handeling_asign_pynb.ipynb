{
  "nbformat": 4,
  "nbformat_minor": 0,
  "metadata": {
    "colab": {
      "provenance": []
    },
    "kernelspec": {
      "name": "python3",
      "display_name": "Python 3"
    },
    "language_info": {
      "name": "python"
    }
  },
  "cells": [
    {
      "cell_type": "code",
      "execution_count": null,
      "metadata": {
        "id": "endzu1MNtKLB"
      },
      "outputs": [],
      "source": []
    },
    {
      "cell_type": "markdown",
      "source": [
        "# 1.Discuss the scenarios where multithreading is preferable to multiprocessing and scenarios where multiprocessing is a better choice."
      ],
      "metadata": {
        "id": "R5nXz6Z2t0YM"
      }
    },
    {
      "cell_type": "code",
      "source": [],
      "metadata": {
        "id": "wkqa_gMIuYBS"
      },
      "execution_count": null,
      "outputs": []
    },
    {
      "cell_type": "markdown",
      "source": [
        "Sutability for different task type\n",
        "\n",
        "Multithreading is ideal for tasks that are L/O-bound or require frequent access to shared data,as threads can efficiently communicated and synchronise access to shared resources.\n",
        "\n",
        "Multiprocessing modern operating systems and hardware can mitigate the higher cost of context switching between processes,but it remain a consideration when desigging are often required.\n",
        "\n",
        "conceptual foundation-Threads share memory,akin tomultiple workers in one space ,while processes have separate memory spaces,like individual offices.\n",
        "\n",
        "Memory and resource mgnt:-efficient sharingbut needs careful management,while each process has ownresources,simpler management but higher consumption.\n",
        "\n",
        "Sutability for task types :-best for CPU -intensive tasks with less interprocess communication.\n",
        "\n",
        "Development and debugging:-Non-deterministic thread scheduling specific debugging tools issues,while involves understanding process interaction,IPC,synchronisation issues."
      ],
      "metadata": {
        "id": "DB984czuuZyn"
      }
    },
    {
      "cell_type": "code",
      "source": [],
      "metadata": {
        "id": "hKGVSw0VzZMD"
      },
      "execution_count": null,
      "outputs": []
    },
    {
      "cell_type": "markdown",
      "source": [
        "# 2.Describe what a process pool is andhow it helps in managing multiple processes efficiently."
      ],
      "metadata": {
        "id": "QVx4XV1Tzs9J"
      }
    },
    {
      "cell_type": "code",
      "source": [],
      "metadata": {
        "id": "A4Buq-8e0C_X"
      },
      "execution_count": null,
      "outputs": []
    },
    {
      "cell_type": "markdown",
      "source": [
        "A process pool is a programming pattern for automatically managing a pool of worker processes.The pool class automaticaly distributes the tasks to the available processors using a FIFO scheduling manner.\n",
        "\n",
        "Pool allows you to do multiple jobs per process,which may make it easier to parallelize your program.if you have a milion tasks to execute in parallel,you can create a pool with a number of processes as many as CPU cores and then pass the list of the milion tasks to the pool.  \n",
        "\n",
        "it helps in improving productivity,efficincy,and quality of work.\n",
        "\n",
        "identify best processes\n",
        "\n",
        "carry out tasks systematically\n",
        "\n",
        "provide organized workflow\n",
        "\n",
        "centralized platform"
      ],
      "metadata": {
        "id": "Bh5pbqMe0EA1"
      }
    },
    {
      "cell_type": "code",
      "source": [],
      "metadata": {
        "id": "orrgRoJt3lfh"
      },
      "execution_count": null,
      "outputs": []
    },
    {
      "cell_type": "markdown",
      "source": [
        "# 3.Explain what multiprocessing is and why it is used in python programs."
      ],
      "metadata": {
        "id": "a390gF5s30_C"
      }
    },
    {
      "cell_type": "code",
      "source": [],
      "metadata": {
        "id": "AayD7mXu4C-w"
      },
      "execution_count": null,
      "outputs": []
    },
    {
      "cell_type": "markdown",
      "source": [
        "Multiprocessing in python is a built in package that allows the system to run multiple processes simultaneously.it will enable the breaking of application into smaller threads that can run independently the operating system can then alocate all these threads or processes to the processor to run them parallelly,thus improving the overall performance and efficiency.\n",
        "\n",
        "use multiprocessing in python\n",
        "\n",
        "performing multiple operation for single processor becomechallenging.as the number of process keeps increasing,the processor will have to halt the current process and move to the next,to keep tham going.\n",
        "\n",
        "*A system with more than a single central processor\n",
        "\n",
        "*A multi-core processor,that is a single computing unit with multiple independent core processing units."
      ],
      "metadata": {
        "id": "YIZthehd4Diw"
      }
    },
    {
      "cell_type": "code",
      "source": [],
      "metadata": {
        "id": "YM9pcZLZ6Fqx"
      },
      "execution_count": null,
      "outputs": []
    },
    {
      "cell_type": "markdown",
      "source": [
        "# 5.Describe the methods and tools available in python for safty sharing data between threads and processes."
      ],
      "metadata": {
        "id": "UZTC7JJy6H_G"
      }
    },
    {
      "cell_type": "code",
      "source": [],
      "metadata": {
        "id": "tJRSrRCz7J9l"
      },
      "execution_count": null,
      "outputs": []
    },
    {
      "cell_type": "markdown",
      "source": [
        "pthonshas variety of methods and tools including:\n",
        "\n",
        "methods\n",
        "\n",
        "function attached to an objects class. for ex the keys() methods return a list of a dictionary keys.\n",
        "\n",
        "string methods\n",
        "\n",
        "methods that perform operation on string such as:-\n",
        "\n",
        "format_map()\n",
        "\n",
        "index()\n",
        "\n",
        "isalnum()\n",
        "\n",
        "isalpha()\n",
        "\n",
        "list methods\n",
        "\n",
        "methods that perform operation on list ,such as\n",
        "\n",
        "clear\n",
        "\n",
        "copy\n",
        "\n",
        "count\n",
        "\n",
        "extend\n",
        "\n",
        "Tools for data reporting\n",
        "\n",
        "libraries that provide function and methods for exporting,formatting,and display data,such as:-\n",
        "\n",
        "pandas\n",
        "\n",
        "matplotlib\n",
        "\n",
        "seaborn\n",
        "\n",
        "plotly\n",
        "\n",
        "bokeh\n",
        "\n",
        "tools for data mining\n",
        "\n",
        "libraries that help with creating,manupulating,and studing complex network.such as\n",
        "\n",
        "network"
      ],
      "metadata": {
        "id": "iJQbAtjY7RId"
      }
    },
    {
      "cell_type": "code",
      "source": [],
      "metadata": {
        "id": "lqiY7Zeq9U82"
      },
      "execution_count": null,
      "outputs": []
    },
    {
      "cell_type": "markdown",
      "source": [
        "# 6.Discuss why its crucial to handle exceptions in concurrent programs and the techniques available for doing so."
      ],
      "metadata": {
        "id": "rdEPzjih9fHi"
      }
    },
    {
      "cell_type": "code",
      "source": [],
      "metadata": {
        "id": "gxNeMcqZ9zWu"
      },
      "execution_count": null,
      "outputs": []
    },
    {
      "cell_type": "markdown",
      "source": [
        "Expection handeling is important in concurrent programs because it prevents the entire application from crashing when one thread throws an excetion that is not handled properly\n",
        "some techniques for handling exceptions in concurrent programs:-\n",
        "\n",
        "use try-catch blocks-these blocks detect and throw exception to catch blocks,which then handle them.\n",
        "\n",
        "use thread .uncaught exception handler-this construct catches and handeles exceptions at the appropriate level.\n",
        "\n",
        "separate error handeling code from normal code-this  makes the code morereadable and maintainable.\n",
        "\n",
        "use design redundancy:-this way to tolerate residual design faults in software.\n",
        "\n",
        "use design the lterators add() and ?or removed() methods:-these methods can be used to safely make changes to a collection while iterating over it.\n",
        "\n",
        "create a copy of the collection for iteration:-this can be used to avoid throwing an exception.\n",
        "\n",
        "use java 8 streams and filter ():-these can be used to avoid throwing an exception.\n",
        "\n",
        "use a concurrent collection:-this can ba used to avoid throwing an exception."
      ],
      "metadata": {
        "id": "3aorUwa090AB"
      }
    },
    {
      "cell_type": "code",
      "source": [],
      "metadata": {
        "id": "RAgAAzANCx4s"
      },
      "execution_count": null,
      "outputs": []
    }
  ]
}